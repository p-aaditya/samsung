{
 "cells": [
  {
   "cell_type": "markdown",
   "id": "associate-sunset",
   "metadata": {
    "id": "associate-sunset"
   },
   "source": [
    "# Credit risk modelling using Logistic Regression\n",
    "## PRASHANTH KANNADAGULI\n",
    "### SR. DATA SCIENCE TRAINER  "
   ]
  },
  {
   "cell_type": "markdown",
   "id": "handled-tooth",
   "metadata": {
    "id": "handled-tooth"
   },
   "source": [
    "## Problem Statement"
   ]
  },
  {
   "cell_type": "markdown",
   "id": "accessory-watts",
   "metadata": {
    "id": "accessory-watts"
   },
   "source": [
    "Predict the loan defaulters using a Logistic Regression model on the credit risk data and calculate credit scores"
   ]
  },
  {
   "cell_type": "markdown",
   "id": "twenty-indonesia",
   "metadata": {
    "id": "twenty-indonesia"
   },
   "source": [
    "## Learning Objectives"
   ]
  },
  {
   "cell_type": "markdown",
   "id": "honest-friendship",
   "metadata": {
    "id": "honest-friendship"
   },
   "source": [
    "At the end of the mini-project, you will be able to :\n",
    "\n",
    "* perform data exploration, preprocessing and visualization\n",
    "* implement Logistic Regression using manual code or using sklearn library\n",
    "* evaluate the model using appropriate performance metrics\n",
    "* develop a credit scoring system"
   ]
  },
  {
   "cell_type": "markdown",
   "id": "lesbian-bottom",
   "metadata": {
    "id": "lesbian-bottom"
   },
   "source": [
    "## Dataset"
   ]
  },
  {
   "cell_type": "markdown",
   "id": "fixed-trainer",
   "metadata": {
    "id": "fixed-trainer"
   },
   "source": [
    "The dataset chosen for this mini-project is the [Give Me Some Credit](https://cdn.iisc.talentsprint.com/CDS/Give_me_some_credit_BigML.pdf) dataset which can be used to build models for predicting loan repayment defaulters\n",
    "\n",
    "#### Datafields\n",
    "\n",
    "- **SeriousDlqin2yrs:** Person experienced 90 days past due delinquency or worse\n",
    "- **RevolvingUtilizationOfUnsecuredLines:** Total balance on credit cards and personal lines of credit except real estate and no installment debt like car loans divided by the sum of credit limits\n",
    "- **age:** Age of borrower in years\n",
    "- **NumberOfTime30-59DaysPastDueNotWorse:** Number of times borrower has been 30-59 days past due but no worse in the last 2 years.\n",
    "- **DebtRatio:** Monthly debt payments, alimony,living costs divided by monthy gross income\n",
    "- **MonthlyIncome:** Monthly income\n",
    "- **NumberOfOpenCreditLinesAndLoans:** Number of Open loans (installment like car loan or mortgage) and Lines of credit (e.g. credit cards)\n",
    "- **NumberOfTimes90DaysLate:** Number of times borrower has been 90 days or more past due.\n",
    "- **NumberRealEstateLoansOrLines:**\tNumber of mortgage and real estate loans including home equity lines of credit\n",
    "- **NumberOfTime60-89DaysPastDueNotWorse:**\tNumber of times borrower has been 60-89 days past due but no worse in the last 2 years.\n",
    "- **NumberOfDependents:** Number of dependents in family excluding themselves (spouse, children etc.)"
   ]
  },
  {
   "cell_type": "markdown",
   "id": "rapid-hierarchy",
   "metadata": {
    "id": "rapid-hierarchy"
   },
   "source": [
    "## Information"
   ]
  },
  {
   "cell_type": "markdown",
   "id": "prescribed-matter",
   "metadata": {
    "id": "prescribed-matter"
   },
   "source": [
    "Credit risk arises when a corporate or individual borrower fails to meet their debt obligations. From the lender's perspective, credit risk could disrupt its cash flows or increase collection costs, since the lender may be forced to hire a debt collection agency to enforce the collection. The loss may be partial or complete, where the lender incurs a loss of part of the loan or the entire loan extended to the borrower.\n",
    "\n",
    "Credit scoring algorithms, which calculate the probability of default, are the best methods that banks use to determine whether or not a loan should be granted. \n",
    "\n",
    "In order to build a credit scoring system, the following feature transformations are performed:\n",
    "\n",
    "#### Weight of Evidence and Information value\n",
    "\n",
    "Logistic regression is a commonly used technique in credit scoring for solving binary classification problems. Prior to model fitting, another iteration of variable selection is valuable to check if the newly WOE transformed variables are still good model candidates. Preferred candidate variables are those with higher information value having a linear relationship with the dependent variable, have good coverage across all categories, have a normal distribution, contain a notable overall contribution, and are relevant to the business.\n",
    "\n",
    "**Weight of evidence** (WOE) is a powerful tool for feature representation and evaluation in data science. WOE can provide interpret able transformation to both categorical and numerical features. The weight of evidence tells the predictive power of an independent variable in relation to the dependent variable. Since it evolved from credit scoring world, it is generally described as a measure of the separation of good and bad customers. \"Bad Customers\" refers to the customers who defaulted on a loan. and \"Good Customers\" refers to the customers who paid back loan. WOE can be calculated using the below formula:\n",
    "\n",
    "$$WOE = ln \\left( \\frac{\\%   of  Non\\_Events}{\\%   of  Events} \\right)$$\n",
    "\n",
    "Steps to calculate WOE\n",
    "* For a continuous variable, split data into 10 parts (or lesser depending on the distribution).\n",
    "* Calculate the number of events and non-events in each group (bin)\n",
    "* Calculate the % of events and % of non-events in each group.\n",
    "* Calculate WOE by taking natural log of division of % of non-events and % of events\n",
    "\n",
    "**Information value** is one of the most useful technique to select important variables in a predictive model. It helps to rank variables on the basis of their importance. The IV is calculated using the following formula :\n",
    "$$IV = ∑ (\\% of Non\\_Events - \\% of Events) * WOE$$\n",
    "\n",
    "Read more about `WOE` and `IV` from the following [link](https://medium.com/@yanhuiliu104/credit-scoring-scorecard-development-process-8554c3492b2b)"
   ]
  },
  {
   "cell_type": "code",
   "execution_count": 1,
   "id": "comparable-delay",
   "metadata": {
    "cellView": "form",
    "id": "comparable-delay"
   },
   "outputs": [],
   "source": [
    "!pip -qq install xverse"
   ]
  },
  {
   "cell_type": "markdown",
   "id": "appreciated-pattern",
   "metadata": {
    "id": "appreciated-pattern"
   },
   "source": [
    "### Import Neccesary Packages"
   ]
  },
  {
   "cell_type": "code",
   "execution_count": 2,
   "id": "loose-marsh",
   "metadata": {
    "id": "loose-marsh"
   },
   "outputs": [],
   "source": [
    "import pandas as pd\n",
    "import numpy as np\n",
    "from sklearn.model_selection import train_test_split\n",
    "from sklearn.linear_model import LogisticRegression\n",
    "import seaborn as sns\n",
    "from matplotlib import pyplot as plt\n",
    "import math\n",
    "from xverse.transformer import MonotonicBinning,WOE\n",
    "%matplotlib inline"
   ]
  },
  {
   "cell_type": "markdown",
   "id": "compressed-reflection",
   "metadata": {
    "id": "compressed-reflection"
   },
   "source": [
    "### Load the dataset"
   ]
  },
  {
   "cell_type": "code",
   "execution_count": 3,
   "id": "fatty-graph",
   "metadata": {
    "colab": {
     "base_uri": "https://localhost:8080/",
     "height": 193
    },
    "executionInfo": {
     "elapsed": 21,
     "status": "ok",
     "timestamp": 1678791345338,
     "user": {
      "displayName": "ಪ್ರಶಾಂತ್ ಕನ್ನಡಗುಳಿ Prashanth Kannadaguli",
      "userId": "15032422606713375335"
     },
     "user_tz": -330
    },
    "id": "fatty-graph",
    "outputId": "3cfa5ed5-d01f-4e31-eff9-aa912080d163"
   },
   "outputs": [
    {
     "data": {
      "text/html": [
       "<div>\n",
       "<style scoped>\n",
       "    .dataframe tbody tr th:only-of-type {\n",
       "        vertical-align: middle;\n",
       "    }\n",
       "\n",
       "    .dataframe tbody tr th {\n",
       "        vertical-align: top;\n",
       "    }\n",
       "\n",
       "    .dataframe thead th {\n",
       "        text-align: right;\n",
       "    }\n",
       "</style>\n",
       "<table border=\"1\" class=\"dataframe\">\n",
       "  <thead>\n",
       "    <tr style=\"text-align: right;\">\n",
       "      <th></th>\n",
       "      <th>Unnamed: 0</th>\n",
       "      <th>SeriousDlqin2yrs</th>\n",
       "      <th>RevolvingUtilizationOfUnsecuredLines</th>\n",
       "      <th>age</th>\n",
       "      <th>NumberOfTime30-59DaysPastDueNotWorse</th>\n",
       "      <th>DebtRatio</th>\n",
       "      <th>MonthlyIncome</th>\n",
       "      <th>NumberOfOpenCreditLinesAndLoans</th>\n",
       "      <th>NumberOfTimes90DaysLate</th>\n",
       "      <th>NumberRealEstateLoansOrLines</th>\n",
       "      <th>NumberOfTime60-89DaysPastDueNotWorse</th>\n",
       "      <th>NumberOfDependents</th>\n",
       "    </tr>\n",
       "  </thead>\n",
       "  <tbody>\n",
       "    <tr>\n",
       "      <th>0</th>\n",
       "      <td>1</td>\n",
       "      <td>1</td>\n",
       "      <td>0.766127</td>\n",
       "      <td>45</td>\n",
       "      <td>2</td>\n",
       "      <td>0.802982</td>\n",
       "      <td>9120.0</td>\n",
       "      <td>13</td>\n",
       "      <td>0</td>\n",
       "      <td>6</td>\n",
       "      <td>0</td>\n",
       "      <td>2.0</td>\n",
       "    </tr>\n",
       "    <tr>\n",
       "      <th>1</th>\n",
       "      <td>2</td>\n",
       "      <td>0</td>\n",
       "      <td>0.957151</td>\n",
       "      <td>40</td>\n",
       "      <td>0</td>\n",
       "      <td>0.121876</td>\n",
       "      <td>2600.0</td>\n",
       "      <td>4</td>\n",
       "      <td>0</td>\n",
       "      <td>0</td>\n",
       "      <td>0</td>\n",
       "      <td>1.0</td>\n",
       "    </tr>\n",
       "  </tbody>\n",
       "</table>\n",
       "</div>"
      ],
      "text/plain": [
       "   Unnamed: 0  SeriousDlqin2yrs  RevolvingUtilizationOfUnsecuredLines  age  \\\n",
       "0           1                 1                              0.766127   45   \n",
       "1           2                 0                              0.957151   40   \n",
       "\n",
       "   NumberOfTime30-59DaysPastDueNotWorse  DebtRatio  MonthlyIncome  \\\n",
       "0                                     2   0.802982         9120.0   \n",
       "1                                     0   0.121876         2600.0   \n",
       "\n",
       "   NumberOfOpenCreditLinesAndLoans  NumberOfTimes90DaysLate  \\\n",
       "0                               13                        0   \n",
       "1                                4                        0   \n",
       "\n",
       "   NumberRealEstateLoansOrLines  NumberOfTime60-89DaysPastDueNotWorse  \\\n",
       "0                             6                                     0   \n",
       "1                             0                                     0   \n",
       "\n",
       "   NumberOfDependents  \n",
       "0                 2.0  \n",
       "1                 1.0  "
      ]
     },
     "execution_count": 3,
     "metadata": {},
     "output_type": "execute_result"
    }
   ],
   "source": [
    "train_data = pd.read_csv(\"GiveMeSomeCredit.csv\")\n",
    "train_data.head(2)"
   ]
  },
  {
   "cell_type": "markdown",
   "id": "experienced-sleeping",
   "metadata": {
    "id": "experienced-sleeping"
   },
   "source": [
    "#### Describe the all statistical properties of the train dataset"
   ]
  },
  {
   "cell_type": "code",
   "execution_count": 4,
   "id": "greek-methodology",
   "metadata": {
    "colab": {
     "base_uri": "https://localhost:8080/",
     "height": 381
    },
    "executionInfo": {
     "elapsed": 19,
     "status": "ok",
     "timestamp": 1678791345338,
     "user": {
      "displayName": "ಪ್ರಶಾಂತ್ ಕನ್ನಡಗುಳಿ Prashanth Kannadaguli",
      "userId": "15032422606713375335"
     },
     "user_tz": -330
    },
    "id": "greek-methodology",
    "outputId": "42b41170-cd19-4839-c8fc-cd30d2b79e04"
   },
   "outputs": [
    {
     "data": {
      "text/html": [
       "<div>\n",
       "<style scoped>\n",
       "    .dataframe tbody tr th:only-of-type {\n",
       "        vertical-align: middle;\n",
       "    }\n",
       "\n",
       "    .dataframe tbody tr th {\n",
       "        vertical-align: top;\n",
       "    }\n",
       "\n",
       "    .dataframe thead th {\n",
       "        text-align: right;\n",
       "    }\n",
       "</style>\n",
       "<table border=\"1\" class=\"dataframe\">\n",
       "  <thead>\n",
       "    <tr style=\"text-align: right;\">\n",
       "      <th></th>\n",
       "      <th>SeriousDlqin2yrs</th>\n",
       "      <th>RevolvingUtilizationOfUnsecuredLines</th>\n",
       "      <th>age</th>\n",
       "      <th>NumberOfTime30-59DaysPastDueNotWorse</th>\n",
       "      <th>DebtRatio</th>\n",
       "      <th>MonthlyIncome</th>\n",
       "      <th>NumberOfOpenCreditLinesAndLoans</th>\n",
       "      <th>NumberOfTimes90DaysLate</th>\n",
       "      <th>NumberRealEstateLoansOrLines</th>\n",
       "      <th>NumberOfTime60-89DaysPastDueNotWorse</th>\n",
       "      <th>NumberOfDependents</th>\n",
       "    </tr>\n",
       "  </thead>\n",
       "  <tbody>\n",
       "    <tr>\n",
       "      <th>count</th>\n",
       "      <td>150000.000000</td>\n",
       "      <td>150000.000000</td>\n",
       "      <td>150000.000000</td>\n",
       "      <td>150000.000000</td>\n",
       "      <td>150000.000000</td>\n",
       "      <td>1.202690e+05</td>\n",
       "      <td>150000.000000</td>\n",
       "      <td>150000.000000</td>\n",
       "      <td>150000.000000</td>\n",
       "      <td>150000.000000</td>\n",
       "      <td>146076.000000</td>\n",
       "    </tr>\n",
       "    <tr>\n",
       "      <th>mean</th>\n",
       "      <td>0.066840</td>\n",
       "      <td>6.048438</td>\n",
       "      <td>52.295207</td>\n",
       "      <td>0.421033</td>\n",
       "      <td>353.005076</td>\n",
       "      <td>6.670221e+03</td>\n",
       "      <td>8.452760</td>\n",
       "      <td>0.265973</td>\n",
       "      <td>1.018240</td>\n",
       "      <td>0.240387</td>\n",
       "      <td>0.757222</td>\n",
       "    </tr>\n",
       "    <tr>\n",
       "      <th>std</th>\n",
       "      <td>0.249746</td>\n",
       "      <td>249.755371</td>\n",
       "      <td>14.771866</td>\n",
       "      <td>4.192781</td>\n",
       "      <td>2037.818523</td>\n",
       "      <td>1.438467e+04</td>\n",
       "      <td>5.145951</td>\n",
       "      <td>4.169304</td>\n",
       "      <td>1.129771</td>\n",
       "      <td>4.155179</td>\n",
       "      <td>1.115086</td>\n",
       "    </tr>\n",
       "    <tr>\n",
       "      <th>min</th>\n",
       "      <td>0.000000</td>\n",
       "      <td>0.000000</td>\n",
       "      <td>0.000000</td>\n",
       "      <td>0.000000</td>\n",
       "      <td>0.000000</td>\n",
       "      <td>0.000000e+00</td>\n",
       "      <td>0.000000</td>\n",
       "      <td>0.000000</td>\n",
       "      <td>0.000000</td>\n",
       "      <td>0.000000</td>\n",
       "      <td>0.000000</td>\n",
       "    </tr>\n",
       "    <tr>\n",
       "      <th>25%</th>\n",
       "      <td>0.000000</td>\n",
       "      <td>0.029867</td>\n",
       "      <td>41.000000</td>\n",
       "      <td>0.000000</td>\n",
       "      <td>0.175074</td>\n",
       "      <td>3.400000e+03</td>\n",
       "      <td>5.000000</td>\n",
       "      <td>0.000000</td>\n",
       "      <td>0.000000</td>\n",
       "      <td>0.000000</td>\n",
       "      <td>0.000000</td>\n",
       "    </tr>\n",
       "    <tr>\n",
       "      <th>50%</th>\n",
       "      <td>0.000000</td>\n",
       "      <td>0.154181</td>\n",
       "      <td>52.000000</td>\n",
       "      <td>0.000000</td>\n",
       "      <td>0.366508</td>\n",
       "      <td>5.400000e+03</td>\n",
       "      <td>8.000000</td>\n",
       "      <td>0.000000</td>\n",
       "      <td>1.000000</td>\n",
       "      <td>0.000000</td>\n",
       "      <td>0.000000</td>\n",
       "    </tr>\n",
       "    <tr>\n",
       "      <th>75%</th>\n",
       "      <td>0.000000</td>\n",
       "      <td>0.559046</td>\n",
       "      <td>63.000000</td>\n",
       "      <td>0.000000</td>\n",
       "      <td>0.868254</td>\n",
       "      <td>8.249000e+03</td>\n",
       "      <td>11.000000</td>\n",
       "      <td>0.000000</td>\n",
       "      <td>2.000000</td>\n",
       "      <td>0.000000</td>\n",
       "      <td>1.000000</td>\n",
       "    </tr>\n",
       "    <tr>\n",
       "      <th>max</th>\n",
       "      <td>1.000000</td>\n",
       "      <td>50708.000000</td>\n",
       "      <td>109.000000</td>\n",
       "      <td>98.000000</td>\n",
       "      <td>329664.000000</td>\n",
       "      <td>3.008750e+06</td>\n",
       "      <td>58.000000</td>\n",
       "      <td>98.000000</td>\n",
       "      <td>54.000000</td>\n",
       "      <td>98.000000</td>\n",
       "      <td>20.000000</td>\n",
       "    </tr>\n",
       "  </tbody>\n",
       "</table>\n",
       "</div>"
      ],
      "text/plain": [
       "       SeriousDlqin2yrs  RevolvingUtilizationOfUnsecuredLines            age  \\\n",
       "count     150000.000000                         150000.000000  150000.000000   \n",
       "mean           0.066840                              6.048438      52.295207   \n",
       "std            0.249746                            249.755371      14.771866   \n",
       "min            0.000000                              0.000000       0.000000   \n",
       "25%            0.000000                              0.029867      41.000000   \n",
       "50%            0.000000                              0.154181      52.000000   \n",
       "75%            0.000000                              0.559046      63.000000   \n",
       "max            1.000000                          50708.000000     109.000000   \n",
       "\n",
       "       NumberOfTime30-59DaysPastDueNotWorse      DebtRatio  MonthlyIncome  \\\n",
       "count                         150000.000000  150000.000000   1.202690e+05   \n",
       "mean                               0.421033     353.005076   6.670221e+03   \n",
       "std                                4.192781    2037.818523   1.438467e+04   \n",
       "min                                0.000000       0.000000   0.000000e+00   \n",
       "25%                                0.000000       0.175074   3.400000e+03   \n",
       "50%                                0.000000       0.366508   5.400000e+03   \n",
       "75%                                0.000000       0.868254   8.249000e+03   \n",
       "max                               98.000000  329664.000000   3.008750e+06   \n",
       "\n",
       "       NumberOfOpenCreditLinesAndLoans  NumberOfTimes90DaysLate  \\\n",
       "count                    150000.000000            150000.000000   \n",
       "mean                          8.452760                 0.265973   \n",
       "std                           5.145951                 4.169304   \n",
       "min                           0.000000                 0.000000   \n",
       "25%                           5.000000                 0.000000   \n",
       "50%                           8.000000                 0.000000   \n",
       "75%                          11.000000                 0.000000   \n",
       "max                          58.000000                98.000000   \n",
       "\n",
       "       NumberRealEstateLoansOrLines  NumberOfTime60-89DaysPastDueNotWorse  \\\n",
       "count                 150000.000000                         150000.000000   \n",
       "mean                       1.018240                              0.240387   \n",
       "std                        1.129771                              4.155179   \n",
       "min                        0.000000                              0.000000   \n",
       "25%                        0.000000                              0.000000   \n",
       "50%                        1.000000                              0.000000   \n",
       "75%                        2.000000                              0.000000   \n",
       "max                       54.000000                             98.000000   \n",
       "\n",
       "       NumberOfDependents  \n",
       "count       146076.000000  \n",
       "mean             0.757222  \n",
       "std              1.115086  \n",
       "min              0.000000  \n",
       "25%              0.000000  \n",
       "50%              0.000000  \n",
       "75%              1.000000  \n",
       "max             20.000000  "
      ]
     },
     "execution_count": 4,
     "metadata": {},
     "output_type": "execute_result"
    }
   ],
   "source": [
    "train_data[train_data.columns[1:]].describe()"
   ]
  },
  {
   "cell_type": "markdown",
   "id": "christian-hamilton",
   "metadata": {
    "id": "christian-hamilton"
   },
   "source": [
    "### Pre-processing"
   ]
  },
  {
   "cell_type": "markdown",
   "id": "global-decision",
   "metadata": {
    "id": "global-decision"
   },
   "source": [
    "#### Remove unwanted columns"
   ]
  },
  {
   "cell_type": "code",
   "execution_count": 5,
   "id": "pharmaceutical-latvia",
   "metadata": {
    "id": "pharmaceutical-latvia"
   },
   "outputs": [],
   "source": [
    "train_data.drop(\"Unnamed: 0\",axis=1,inplace=True)"
   ]
  },
  {
   "cell_type": "markdown",
   "id": "usual-elimination",
   "metadata": {
    "id": "usual-elimination"
   },
   "source": [
    "#### Handle the missing data\n",
    "\n",
    "Find the how many null values in the dataset and fill with mean or remove."
   ]
  },
  {
   "cell_type": "code",
   "execution_count": 6,
   "id": "standing-trinity",
   "metadata": {
    "colab": {
     "base_uri": "https://localhost:8080/"
    },
    "executionInfo": {
     "elapsed": 19,
     "status": "ok",
     "timestamp": 1678791345339,
     "user": {
      "displayName": "ಪ್ರಶಾಂತ್ ಕನ್ನಡಗುಳಿ Prashanth Kannadaguli",
      "userId": "15032422606713375335"
     },
     "user_tz": -330
    },
    "id": "standing-trinity",
    "outputId": "ed2557fb-946a-4df4-be63-964f523a8c56"
   },
   "outputs": [
    {
     "data": {
      "text/plain": [
       "SeriousDlqin2yrs                            0\n",
       "RevolvingUtilizationOfUnsecuredLines        0\n",
       "age                                         0\n",
       "NumberOfTime30-59DaysPastDueNotWorse        0\n",
       "DebtRatio                                   0\n",
       "MonthlyIncome                           29731\n",
       "NumberOfOpenCreditLinesAndLoans             0\n",
       "NumberOfTimes90DaysLate                     0\n",
       "NumberRealEstateLoansOrLines                0\n",
       "NumberOfTime60-89DaysPastDueNotWorse        0\n",
       "NumberOfDependents                       3924\n",
       "dtype: int64"
      ]
     },
     "execution_count": 6,
     "metadata": {},
     "output_type": "execute_result"
    }
   ],
   "source": [
    "train_data.isna().sum()"
   ]
  },
  {
   "cell_type": "code",
   "execution_count": 7,
   "id": "heated-findings",
   "metadata": {
    "colab": {
     "base_uri": "https://localhost:8080/"
    },
    "executionInfo": {
     "elapsed": 16,
     "status": "ok",
     "timestamp": 1678791345339,
     "user": {
      "displayName": "ಪ್ರಶಾಂತ್ ಕನ್ನಡಗುಳಿ Prashanth Kannadaguli",
      "userId": "15032422606713375335"
     },
     "user_tz": -330
    },
    "id": "heated-findings",
    "outputId": "577e92b9-a2ab-4b1d-d2b0-f364410f0a09"
   },
   "outputs": [
    {
     "data": {
      "text/plain": [
       "SeriousDlqin2yrs                        0\n",
       "RevolvingUtilizationOfUnsecuredLines    0\n",
       "age                                     0\n",
       "NumberOfTime30-59DaysPastDueNotWorse    0\n",
       "DebtRatio                               0\n",
       "MonthlyIncome                           0\n",
       "NumberOfOpenCreditLinesAndLoans         0\n",
       "NumberOfTimes90DaysLate                 0\n",
       "NumberRealEstateLoansOrLines            0\n",
       "NumberOfTime60-89DaysPastDueNotWorse    0\n",
       "NumberOfDependents                      0\n",
       "dtype: int64"
      ]
     },
     "execution_count": 7,
     "metadata": {},
     "output_type": "execute_result"
    }
   ],
   "source": [
    "# Fill the missing values using mean\n",
    "train_data= train_data.fillna((train_data.mean()))\n",
    "train_data.isna().sum()"
   ]
  },
  {
   "cell_type": "markdown",
   "id": "hispanic-reply",
   "metadata": {
    "id": "hispanic-reply"
   },
   "source": [
    "### EDA &  Visualization"
   ]
  },
  {
   "cell_type": "markdown",
   "id": "standing-cheese",
   "metadata": {
    "id": "standing-cheese"
   },
   "source": [
    "#### Calculate the percentage of the target lebels and visualize with a graph"
   ]
  },
  {
   "cell_type": "code",
   "execution_count": 8,
   "id": "attractive-hands",
   "metadata": {
    "colab": {
     "base_uri": "https://localhost:8080/"
    },
    "executionInfo": {
     "elapsed": 1434,
     "status": "ok",
     "timestamp": 1678791346759,
     "user": {
      "displayName": "ಪ್ರಶಾಂತ್ ಕನ್ನಡಗುಳಿ Prashanth Kannadaguli",
      "userId": "15032422606713375335"
     },
     "user_tz": -330
    },
    "id": "attractive-hands",
    "outputId": "57f3ab1e-81b3-44d8-d4a6-393cb817f225"
   },
   "outputs": [
    {
     "data": {
      "text/plain": [
       "0    93.316\n",
       "1     6.684\n",
       "Name: SeriousDlqin2yrs, dtype: float64"
      ]
     },
     "execution_count": 8,
     "metadata": {},
     "output_type": "execute_result"
    }
   ],
   "source": [
    "total_len = len(train_data['SeriousDlqin2yrs'])\n",
    "percentage_labels = (train_data['SeriousDlqin2yrs'].value_counts()/total_len)*100\n",
    "percentage_labels"
   ]
  },
  {
   "cell_type": "code",
   "execution_count": 9,
   "id": "cutting-citizenship",
   "metadata": {
    "colab": {
     "base_uri": "https://localhost:8080/",
     "height": 350
    },
    "executionInfo": {
     "elapsed": 18,
     "status": "ok",
     "timestamp": 1678791346759,
     "user": {
      "displayName": "ಪ್ರಶಾಂತ್ ಕನ್ನಡಗುಳಿ Prashanth Kannadaguli",
      "userId": "15032422606713375335"
     },
     "user_tz": -330
    },
    "id": "cutting-citizenship",
    "outputId": "036f2eff-ac29-4ee5-8c6e-3834d06bf314"
   },
   "outputs": [
    {
     "name": "stderr",
     "output_type": "stream",
     "text": [
      "C:\\ProgramData\\Anaconda\\lib\\site-packages\\seaborn\\_decorators.py:36: FutureWarning: Pass the following variable as a keyword arg: x. From version 0.12, the only valid positional argument will be `data`, and passing other arguments without an explicit keyword will result in an error or misinterpretation.\n",
      "  warnings.warn(\n"
     ]
    },
    {
     "data": {
      "image/png": "[encoded data removed]",
      "text/plain": [
       "<Figure size 640x480 with 1 Axes>"
      ]
     },
     "metadata": {},
     "output_type": "display_data"
    }
   ],
   "source": [
    "sns.countplot(train_data.SeriousDlqin2yrs).set_title('Data Distribution')\n",
    "ax = plt.gca()\n",
    "for p in ax.patches:\n",
    "    height = p.get_height()\n",
    "    ax.text(p.get_x() + p.get_width()/2., height + 2, '{:.2f}%'.format(100*(height/total_len)), fontsize=14, ha='center', va='bottom')\n",
    "ax.set_xlabel(\"Labels for SeriousDlqin2yrs attribute\")\n",
    "ax.set_ylabel(\"Numbers of records\")\n",
    "plt.show()"
   ]
  },
  {
   "cell_type": "markdown",
   "id": "satisfactory-stopping",
   "metadata": {
    "id": "satisfactory-stopping"
   },
   "source": [
    "#### Plot the distribution of SeriousDlqin2yrs by age"
   ]
  },
  {
   "cell_type": "code",
   "execution_count": 10,
   "id": "multiple-series",
   "metadata": {
    "colab": {
     "base_uri": "https://localhost:8080/",
     "height": 295
    },
    "executionInfo": {
     "elapsed": 8,
     "status": "ok",
     "timestamp": 1678791346759,
     "user": {
      "displayName": "ಪ್ರಶಾಂತ್ ಕನ್ನಡಗುಳಿ Prashanth Kannadaguli",
      "userId": "15032422606713375335"
     },
     "user_tz": -330
    },
    "id": "multiple-series",
    "outputId": "7b859044-e6f2-47bc-9c03-6689c8f70338"
   },
   "outputs": [
    {
     "data": {
      "image/png": "[encoded data removed]",
      "text/plain": [
       "<Figure size 640x480 with 1 Axes>"
      ]
     },
     "metadata": {},
     "output_type": "display_data"
    }
   ],
   "source": [
    "sns.kdeplot(train_data[train_data[\"SeriousDlqin2yrs\"] == 0][\"age\"], label=\"Not in 2 years\")\n",
    "sns.kdeplot(train_data[train_data[\"SeriousDlqin2yrs\"] == 1][\"age\"], label=\"In 2 years\")\n",
    "plt.xlabel('Age')\n",
    "plt.title('Distribuition of Default Rate by Age')\n",
    "plt.show()"
   ]
  },
  {
   "cell_type": "markdown",
   "id": "promotional-rolling",
   "metadata": {
    "id": "promotional-rolling"
   },
   "source": [
    "#### Correlation and the heatmap"
   ]
  },
  {
   "cell_type": "code",
   "execution_count": 11,
   "id": "studied-candidate",
   "metadata": {
    "colab": {
     "base_uri": "https://localhost:8080/",
     "height": 478
    },
    "executionInfo": {
     "elapsed": 882,
     "status": "ok",
     "timestamp": 1678791347634,
     "user": {
      "displayName": "ಪ್ರಶಾಂತ್ ಕನ್ನಡಗುಳಿ Prashanth Kannadaguli",
      "userId": "15032422606713375335"
     },
     "user_tz": -330
    },
    "id": "studied-candidate",
    "outputId": "ff3ab8d2-f920-4896-ad89-7a5df6be01a5"
   },
   "outputs": [
    {
     "data": {
      "image/png": "[encoded data removed]",
      "text/plain": [
       "<Figure size 640x480 with 2 Axes>"
      ]
     },
     "metadata": {},
     "output_type": "display_data"
    }
   ],
   "source": [
    "train_data[train_data.columns[:]].corr()\n",
    "sns.heatmap(train_data[train_data.columns[:]].corr(),fmt=\".1f\")\n",
    "plt.show()"
   ]
  },
  {
   "cell_type": "markdown",
   "id": "operational-minute",
   "metadata": {
    "id": "operational-minute"
   },
   "source": [
    "### Data Engineering"
   ]
  },
  {
   "cell_type": "markdown",
   "id": "outer-telephone",
   "metadata": {
    "id": "outer-telephone"
   },
   "source": [
    "#### Weight of Evidence and Information value\n",
    "\n",
    "* Arrange the binning for each variable with different bins\n",
    "    * For eg. Age = 49, Age_quantile_range = (48, 56)\n",
    "* Calculate information value and chooose the best features based on the rules given below\n",
    "\n",
    "| Information Value |\tVariable Predictiveness |\n",
    "| --- | --- |\n",
    "| Less than 0.02\t|  Not useful for prediction |\n",
    "| 0.02 to 0.1\t| Weak predictive Power |\n",
    "|  0.1 to 0.3 | Medium predictive Power |\n",
    "| 0.3 to 0.5 | Strong predictive Power |\n",
    "| >0.5 | Suspicious Predictive Power |\n",
    "\n",
    "* Calculate Weight of evidence for the selected variables\n",
    "\n",
    "Hint: Use [xverse](https://towardsdatascience.com/introducing-xverse-a-python-package-for-feature-selection-and-transformation-17193cdcd067). It is a machine learning Python module in the space of feature engineering, feature transformation and feature selection. It provides pre-built functions for the above steps, such as binning and conversion to WoE."
   ]
  },
  {
   "cell_type": "code",
   "execution_count": 12,
   "id": "norwegian-telescope",
   "metadata": {
    "id": "norwegian-telescope"
   },
   "outputs": [],
   "source": [
    "# # Using xverse package\n",
    "# clf = MonotonicBinning()\n",
    "# clf.fit(train_data.iloc[:,1:], train_data.iloc[:,0])\n",
    "# out_X = clf.transform(train_data.iloc[:,1:])\n",
    "# out_X.head()"
   ]
  },
  {
   "cell_type": "code",
   "execution_count": 13,
   "id": "liked-satin",
   "metadata": {
    "id": "liked-satin"
   },
   "outputs": [],
   "source": [
    "# # Using xverse package\n",
    "# clf = WOE()\n",
    "# clf.fit(train_data.iloc[:,1:], train_data.iloc[:,0])\n",
    "# out_X = clf.transform(train_data.iloc[:,1:])"
   ]
  },
  {
   "cell_type": "code",
   "execution_count": 14,
   "id": "charitable-anxiety",
   "metadata": {
    "id": "charitable-anxiety"
   },
   "outputs": [],
   "source": [
    "# clf.iv_df #information value dataset"
   ]
  },
  {
   "cell_type": "code",
   "execution_count": 15,
   "id": "ordered-knock",
   "metadata": {
    "id": "ordered-knock"
   },
   "outputs": [],
   "source": [
    "# selected_columns = clf.iv_df.Variable_Name.values[:5]"
   ]
  },
  {
   "cell_type": "markdown",
   "id": "conservative-rebel",
   "metadata": {
    "id": "conservative-rebel"
   },
   "source": [
    "### Identify features,  target and split it into train and test"
   ]
  },
  {
   "cell_type": "code",
   "execution_count": 16,
   "id": "ambient-dress",
   "metadata": {
    "id": "ambient-dress"
   },
   "outputs": [],
   "source": [
    "# len(out_X.columns), len(selected_columns)"
   ]
  },
  {
   "cell_type": "code",
   "execution_count": 17,
   "id": "5hoEeUh66UeT",
   "metadata": {
    "id": "5hoEeUh66UeT"
   },
   "outputs": [],
   "source": [
    "# train_data.iloc[:,1:]"
   ]
  },
  {
   "cell_type": "code",
   "execution_count": 18,
   "id": "harmful-warrant",
   "metadata": {
    "colab": {
     "base_uri": "https://localhost:8080/"
    },
    "executionInfo": {
     "elapsed": 363,
     "status": "ok",
     "timestamp": 1678791497805,
     "user": {
      "displayName": "ಪ್ರಶಾಂತ್ ಕನ್ನಡಗುಳಿ Prashanth Kannadaguli",
      "userId": "15032422606713375335"
     },
     "user_tz": -330
    },
    "id": "harmful-warrant",
    "outputId": "723a5fec-39d9-4e14-e279-9a22f6bfa1ca"
   },
   "outputs": [
    {
     "data": {
      "text/plain": [
       "((150000, 10), (150000,))"
      ]
     },
     "execution_count": 18,
     "metadata": {},
     "output_type": "execute_result"
    }
   ],
   "source": [
    "# X = out_X[selected_columns]\n",
    "X = train_data.iloc[:,1:]\n",
    "y = train_data['SeriousDlqin2yrs']\n",
    "X.shape, y.shape"
   ]
  },
  {
   "cell_type": "code",
   "execution_count": 19,
   "id": "packed-humor",
   "metadata": {
    "colab": {
     "base_uri": "https://localhost:8080/"
    },
    "executionInfo": {
     "elapsed": 464,
     "status": "ok",
     "timestamp": 1678791505626,
     "user": {
      "displayName": "ಪ್ರಶಾಂತ್ ಕನ್ನಡಗುಳಿ Prashanth Kannadaguli",
      "userId": "15032422606713375335"
     },
     "user_tz": -330
    },
    "id": "packed-humor",
    "outputId": "6e269b40-350a-464f-cb0c-ec2d41afcef2"
   },
   "outputs": [
    {
     "data": {
      "text/plain": [
       "((105000, 10), (105000,), (45000, 10), (45000,))"
      ]
     },
     "execution_count": 19,
     "metadata": {},
     "output_type": "execute_result"
    }
   ],
   "source": [
    "# split the data into train and test\n",
    "xtrain, xtest, ytrain, ytest = train_test_split(X, y, test_size=0.3, random_state=66)\n",
    "xtrain.shape, ytrain.shape, xtest.shape, ytest.shape"
   ]
  },
  {
   "cell_type": "markdown",
   "id": "ufESq5OxgoXa",
   "metadata": {
    "id": "ufESq5OxgoXa"
   },
   "source": [
    "### Logistic Regression from scratch using gradient method\n",
    "\n",
    "For Linear Regression, we had the hypothesis $yhat = w.X +b$ , whose output range was the set of all Real Numbers.\n",
    "Now, for Logistic Regression our hypothesis is  $yhat = sigmoid(w.X + b)$ , whose output range is between 0 and 1 because by applying a sigmoid function, we always output a number between 0 and 1.\n",
    "\n",
    "$yhat = \\frac{1}{1 +e^{-(w.x+b)}}$\n",
    "\n",
    "Hint: [logistic-regression-with-python](\n",
    "https://medium.com/@ODSC/logistic-regression-with-python-ede39f8573c7)"
   ]
  },
  {
   "cell_type": "code",
   "execution_count": 20,
   "id": "precious-business",
   "metadata": {
    "id": "precious-business"
   },
   "outputs": [],
   "source": [
    "# intercept = np.ones((xtrain.shape[0], 1))  \n",
    "# x_train = np.concatenate((intercept, xtrain), axis=1)\n",
    "# weight = np.zeros(x_train.shape[1])"
   ]
  },
  {
   "cell_type": "code",
   "execution_count": 21,
   "id": "confidential-curtis",
   "metadata": {
    "id": "confidential-curtis"
   },
   "outputs": [],
   "source": [
    "# weight.shape"
   ]
  },
  {
   "cell_type": "code",
   "execution_count": 22,
   "id": "middle-mailing",
   "metadata": {
    "id": "middle-mailing"
   },
   "outputs": [],
   "source": [
    "# #Sigmoid method\n",
    "# def sigmoid(x, weight):\n",
    "#     z = np.dot(x, weight)\n",
    "#     return 1 / (1 + np.exp(-z))\n",
    "\n",
    "# from sklearn.metrics import mean_squared_error\n",
    "\n",
    "# def fit(x, y, weight, lr, iterations):\n",
    "#     for i in range(iterations):\n",
    "#         sigma = sigmoid(x, weight)\n",
    "#         loss = mean_squared_error(sigma,y)\n",
    "#         # gradient\n",
    "#         dW = np.dot(x.T, (sigma - y)) / y.shape[0]\n",
    "#         #Updating the weights\n",
    "#         weight -= lr * dW\n",
    "#     return weight"
   ]
  },
  {
   "cell_type": "code",
   "execution_count": 23,
   "id": "quick-study",
   "metadata": {
    "id": "quick-study"
   },
   "outputs": [],
   "source": [
    "# #creating the class Object\n",
    "# updated_weights = fit(x_train, ytrain, weight, 0.1 , 5000)"
   ]
  },
  {
   "cell_type": "code",
   "execution_count": 24,
   "id": "vertical-layout",
   "metadata": {
    "id": "vertical-layout"
   },
   "outputs": [],
   "source": [
    "# # Method to predict the class label.\n",
    "# def predict(x_new , weight, treshold):\n",
    "#     x_new = np.concatenate((np.ones((x_new.shape[0], 1)), x_new), axis=1)  \n",
    "#     result = sigmoid(x_new, weight)\n",
    "#     result = result >= treshold\n",
    "#     y_pred = np.zeros(result.shape[0])\n",
    "#     for i in range(len(y_pred)):\n",
    "#         if result[i] == True: \n",
    "#             y_pred[i] = 1\n",
    "#         else:\n",
    "#             continue\n",
    "#     return y_pred"
   ]
  },
  {
   "cell_type": "code",
   "execution_count": 25,
   "id": "tracked-intent",
   "metadata": {
    "id": "tracked-intent"
   },
   "outputs": [],
   "source": [
    "# xtest.shape"
   ]
  },
  {
   "cell_type": "code",
   "execution_count": 26,
   "id": "bigger-guidance",
   "metadata": {
    "id": "bigger-guidance"
   },
   "outputs": [],
   "source": [
    "# y_pred = predict(xtest, updated_weights, 0.5)"
   ]
  },
  {
   "cell_type": "code",
   "execution_count": 27,
   "id": "lasting-sector",
   "metadata": {
    "id": "lasting-sector"
   },
   "outputs": [],
   "source": [
    "# # Accuracy of test data\n",
    "# (y_pred == ytest).sum() / len(y_pred)"
   ]
  },
  {
   "cell_type": "markdown",
   "id": "7eSQ5nuBgk7S",
   "metadata": {
    "id": "7eSQ5nuBgk7S"
   },
   "source": [
    "### Implement the Logistic regression using sklearn\n",
    "\n",
    "As there is imbalance in the class distribution, add weightage to the Logistic regression.\n",
    "\n",
    "* Find the accuracy with class weightage in Logistic regression\n",
    "* Find the accuracy without class weightage in Logistic regression\n",
    "\n",
    "Hint: [LogisticRegression](https://scikit-learn.org/stable/modules/generated/sklearn.linear_model.LogisticRegression.html)"
   ]
  },
  {
   "cell_type": "code",
   "execution_count": 28,
   "id": "impressive-assistant",
   "metadata": {
    "colab": {
     "base_uri": "https://localhost:8080/"
    },
    "executionInfo": {
     "elapsed": 1708,
     "status": "ok",
     "timestamp": 1678791606046,
     "user": {
      "displayName": "ಪ್ರಶಾಂತ್ ಕನ್ನಡಗುಳಿ Prashanth Kannadaguli",
      "userId": "15032422606713375335"
     },
     "user_tz": -330
    },
    "id": "impressive-assistant",
    "outputId": "7b50581c-e245-45ae-c61b-6ac1d15d8e6e"
   },
   "outputs": [
    {
     "name": "stderr",
     "output_type": "stream",
     "text": [
      "C:\\ProgramData\\Anaconda\\lib\\site-packages\\sklearn\\linear_model\\_logistic.py:814: ConvergenceWarning: lbfgs failed to converge (status=1):\n",
      "STOP: TOTAL NO. of ITERATIONS REACHED LIMIT.\n",
      "\n",
      "Increase the number of iterations (max_iter) or scale the data as shown in:\n",
      "    https://scikit-learn.org/stable/modules/preprocessing.html\n",
      "Please also refer to the documentation for alternative solver options:\n",
      "    https://scikit-learn.org/stable/modules/linear_model.html#logistic-regression\n",
      "  n_iter_i = _check_optimize_result(\n"
     ]
    },
    {
     "data": {
      "text/plain": [
       "(0.7994444444444444, 0.7980380952380952)"
      ]
     },
     "execution_count": 28,
     "metadata": {},
     "output_type": "execute_result"
    }
   ],
   "source": [
    "# With weightage\n",
    "log_reg = LogisticRegression(class_weight={0:6/100, 1: 94/100})\n",
    "log_reg.fit(xtrain,ytrain)\n",
    "log_reg.score(xtest,ytest), log_reg.score(xtrain, ytrain)"
   ]
  },
  {
   "cell_type": "code",
   "execution_count": 29,
   "id": "AFz6VF-m5roR",
   "metadata": {
    "id": "AFz6VF-m5roR"
   },
   "outputs": [],
   "source": [
    "test_predicted = log_reg.predict(xtest)"
   ]
  },
  {
   "cell_type": "code",
   "execution_count": 30,
   "id": "similar-flower",
   "metadata": {
    "colab": {
     "base_uri": "https://localhost:8080/"
    },
    "executionInfo": {
     "elapsed": 1313,
     "status": "ok",
     "timestamp": 1678791622060,
     "user": {
      "displayName": "ಪ್ರಶಾಂತ್ ಕನ್ನಡಗುಳಿ Prashanth Kannadaguli",
      "userId": "15032422606713375335"
     },
     "user_tz": -330
    },
    "id": "similar-flower",
    "outputId": "d7bc33df-8940-4b4a-f36b-d7bcd05f8836"
   },
   "outputs": [
    {
     "name": "stderr",
     "output_type": "stream",
     "text": [
      "C:\\ProgramData\\Anaconda\\lib\\site-packages\\sklearn\\linear_model\\_logistic.py:814: ConvergenceWarning: lbfgs failed to converge (status=1):\n",
      "STOP: TOTAL NO. of ITERATIONS REACHED LIMIT.\n",
      "\n",
      "Increase the number of iterations (max_iter) or scale the data as shown in:\n",
      "    https://scikit-learn.org/stable/modules/preprocessing.html\n",
      "Please also refer to the documentation for alternative solver options:\n",
      "    https://scikit-learn.org/stable/modules/linear_model.html#logistic-regression\n",
      "  n_iter_i = _check_optimize_result(\n"
     ]
    },
    {
     "data": {
      "text/plain": [
       "(0.9345555555555556, 0.9326)"
      ]
     },
     "execution_count": 30,
     "metadata": {},
     "output_type": "execute_result"
    }
   ],
   "source": [
    "# Without weightage\n",
    "log_reg = LogisticRegression()\n",
    "log_reg.fit(xtrain,ytrain)\n",
    "log_reg.score(xtest,ytest), log_reg.score(xtrain, ytrain)"
   ]
  },
  {
   "cell_type": "code",
   "execution_count": 31,
   "id": "fossil-washer",
   "metadata": {
    "id": "fossil-washer"
   },
   "outputs": [],
   "source": [
    "test_predicted = log_reg.predict(xtest)"
   ]
  },
  {
   "cell_type": "code",
   "execution_count": 32,
   "id": "heard-briefing",
   "metadata": {
    "colab": {
     "base_uri": "https://localhost:8080/"
    },
    "executionInfo": {
     "elapsed": 5,
     "status": "ok",
     "timestamp": 1678791632789,
     "user": {
      "displayName": "ಪ್ರಶಾಂತ್ ಕನ್ನಡಗುಳಿ Prashanth Kannadaguli",
      "userId": "15032422606713375335"
     },
     "user_tz": -330
    },
    "id": "heard-briefing",
    "outputId": "272fd9ea-1f37-4116-c414-b40265ef3183"
   },
   "outputs": [
    {
     "data": {
      "text/plain": [
       "(array([[-3.42582734e-05, -5.31476625e-02,  1.92189998e-01,\n",
       "         -3.86554542e-05, -7.28584839e-05,  3.35854306e-02,\n",
       "          3.95932541e-02,  9.07245487e-02, -1.99069823e-01,\n",
       "          8.38453699e-02]]),\n",
       " array([-0.07673278]))"
      ]
     },
     "execution_count": 32,
     "metadata": {},
     "output_type": "execute_result"
    }
   ],
   "source": [
    "log_reg.coef_, log_reg.intercept_"
   ]
  },
  {
   "cell_type": "code",
   "execution_count": 33,
   "id": "q68_0W3G9jCn",
   "metadata": {
    "colab": {
     "base_uri": "https://localhost:8080/"
    },
    "executionInfo": {
     "elapsed": 372,
     "status": "ok",
     "timestamp": 1678791637418,
     "user": {
      "displayName": "ಪ್ರಶಾಂತ್ ಕನ್ನಡಗುಳಿ Prashanth Kannadaguli",
      "userId": "15032422606713375335"
     },
     "user_tz": -330
    },
    "id": "q68_0W3G9jCn",
    "outputId": "d7ff04ae-076e-45d2-9f6a-480cdf4aea53"
   },
   "outputs": [
    {
     "data": {
      "text/plain": [
       "<bound method LogisticRegression.predict_proba of LogisticRegression()>"
      ]
     },
     "execution_count": 33,
     "metadata": {},
     "output_type": "execute_result"
    }
   ],
   "source": [
    "log_reg.predict_proba"
   ]
  },
  {
   "cell_type": "markdown",
   "id": "signal-error",
   "metadata": {
    "id": "signal-error"
   },
   "source": [
    "### Credit scoring\n",
    "\n",
    "When scaling the model into a scorecard, we will need both the Logistic Regression coefficients from model fitting as well as the transformed WoE values. We will also need to convert the score from the model from the log-odds unit to a points system.\n",
    "For each independent variable Xi, its corresponding score is:\n",
    "\n",
    "$Score = \\sum_{i=1}^{n} (-(β_i × WoE_i + \\frac{α}{n}) × Factor + \\frac{Offset}{n})$\n",
    "\n",
    "Where:\n",
    "\n",
    "βi — logistic regression coefficient for the variable Xi\n",
    "\n",
    "α — logistic regression intercept\n",
    "\n",
    "WoE — Weight of Evidence value for variable Xi\n",
    "\n",
    "n — number of independent variable Xi in the model\n",
    "\n",
    "Factor, Offset — known as scaling parameter\n",
    "\n",
    "  - Factor = pdo / ln(2); pdo is points to double the odds\n",
    "  - Offset = Round_of_Score - {Factor * ln(Odds)}"
   ]
  },
  {
   "cell_type": "code",
   "execution_count": 34,
   "id": "worst-spare",
   "metadata": {
    "id": "worst-spare"
   },
   "outputs": [],
   "source": [
    "# coef = log_reg.coef_.ravel()\n",
    "# intercept = log_reg.intercept_\n",
    "# factor = 20/np.log(2)\n",
    "# offset = 600 - ( factor * np.log(50))\n",
    "# factor, offset"
   ]
  },
  {
   "cell_type": "code",
   "execution_count": 35,
   "id": "MwSXbZ6_P8Jr",
   "metadata": {
    "id": "MwSXbZ6_P8Jr"
   },
   "outputs": [],
   "source": [
    "# 1st method\n",
    "# all_scores = []\n",
    "# for idx,row in X.iterrows():\n",
    "#   score  = []\n",
    "#   for j in range(len(row)):\n",
    "#     asum = (-((row[j] * coef[j]) + (intercept/X.shape[1])) * factor) + (offset/X.shape[1])\n",
    "#     score.append(asum)\n",
    "#   all_scores.append(sum(score))\n",
    "# max(all_scores), min(all_scores)"
   ]
  },
  {
   "cell_type": "code",
   "execution_count": 36,
   "id": "XwwnwQKMU_Nx",
   "metadata": {
    "id": "XwwnwQKMU_Nx"
   },
   "outputs": [],
   "source": [
    "# # 2nd method\n",
    "# all_scores = []\n",
    "# for idx,row in X.iterrows():\n",
    "#   a = row.values * coef          # B_i * WOE_i\n",
    "#   a = a + (intercept/X.shape[1]) # (B_i * WOE_i) + intercept_i / n\n",
    "#   b = -a * factor                # -((B_i * WOE_i) + intercept_i / n) * factor\n",
    "#   b = b + (offset/X.shape[1])    # -((B_i * WOE_i) + intercept_i / n) * factor) + offset / n\n",
    "#   all_scores.append(sum(b))      # sum"
   ]
  },
  {
   "cell_type": "code",
   "execution_count": 37,
   "id": "vOcB1ewAYxtM",
   "metadata": {
    "id": "vOcB1ewAYxtM"
   },
   "outputs": [],
   "source": [
    "# max(all_scores),min(all_scores)"
   ]
  },
  {
   "cell_type": "code",
   "execution_count": 38,
   "id": "sjs0UE90q3WR",
   "metadata": {
    "id": "sjs0UE90q3WR"
   },
   "outputs": [],
   "source": [
    "# np.array(all_scores)"
   ]
  },
  {
   "cell_type": "markdown",
   "id": "intelligent-internship",
   "metadata": {
    "id": "intelligent-internship"
   },
   "source": [
    "### Performance Metrics"
   ]
  },
  {
   "cell_type": "markdown",
   "id": "innocent-hygiene",
   "metadata": {
    "id": "innocent-hygiene"
   },
   "source": [
    "#### Precision"
   ]
  },
  {
   "cell_type": "code",
   "execution_count": 39,
   "id": "optimum-listening",
   "metadata": {
    "colab": {
     "base_uri": "https://localhost:8080/"
    },
    "executionInfo": {
     "elapsed": 493,
     "status": "ok",
     "timestamp": 1678791664374,
     "user": {
      "displayName": "ಪ್ರಶಾಂತ್ ಕನ್ನಡಗುಳಿ Prashanth Kannadaguli",
      "userId": "15032422606713375335"
     },
     "user_tz": -330
    },
    "id": "optimum-listening",
    "outputId": "adbe6038-2703-49d1-9a5d-c7465e730bb7"
   },
   "outputs": [
    {
     "data": {
      "text/plain": [
       "0.771600686293737"
      ]
     },
     "execution_count": 39,
     "metadata": {},
     "output_type": "execute_result"
    }
   ],
   "source": [
    "from sklearn.metrics import precision_score\n",
    "precision_score(ytest, test_predicted ,average='macro') "
   ]
  },
  {
   "cell_type": "markdown",
   "id": "accessory-keyboard",
   "metadata": {
    "id": "accessory-keyboard"
   },
   "source": [
    "#### Recall"
   ]
  },
  {
   "cell_type": "code",
   "execution_count": 40,
   "id": "civic-corner",
   "metadata": {
    "colab": {
     "base_uri": "https://localhost:8080/"
    },
    "executionInfo": {
     "elapsed": 4,
     "status": "ok",
     "timestamp": 1678791666438,
     "user": {
      "displayName": "ಪ್ರಶಾಂತ್ ಕನ್ನಡಗುಳಿ Prashanth Kannadaguli",
      "userId": "15032422606713375335"
     },
     "user_tz": -330
    },
    "id": "civic-corner",
    "outputId": "8a1bdddc-dc88-43bf-87b5-398abec376d2"
   },
   "outputs": [
    {
     "data": {
      "text/plain": [
       "0.5072538663801185"
      ]
     },
     "execution_count": 40,
     "metadata": {},
     "output_type": "execute_result"
    }
   ],
   "source": [
    "from sklearn.metrics import recall_score\n",
    "recall_score(ytest, test_predicted,average='macro') "
   ]
  },
  {
   "cell_type": "markdown",
   "id": "wired-amendment",
   "metadata": {
    "id": "wired-amendment"
   },
   "source": [
    "#### Classification Report"
   ]
  },
  {
   "cell_type": "code",
   "execution_count": 41,
   "id": "impossible-machinery",
   "metadata": {
    "colab": {
     "base_uri": "https://localhost:8080/"
    },
    "executionInfo": {
     "elapsed": 3,
     "status": "ok",
     "timestamp": 1678791668548,
     "user": {
      "displayName": "ಪ್ರಶಾಂತ್ ಕನ್ನಡಗುಳಿ Prashanth Kannadaguli",
      "userId": "15032422606713375335"
     },
     "user_tz": -330
    },
    "id": "impossible-machinery",
    "outputId": "a3173838-cc84-4851-94b9-1c744ddb639b"
   },
   "outputs": [
    {
     "name": "stdout",
     "output_type": "stream",
     "text": [
      "              precision    recall  f1-score   support\n",
      "\n",
      "           0       0.94      1.00      0.97     42039\n",
      "           1       0.61      0.02      0.03      2961\n",
      "\n",
      "    accuracy                           0.93     45000\n",
      "   macro avg       0.77      0.51      0.50     45000\n",
      "weighted avg       0.91      0.93      0.90     45000\n",
      "\n"
     ]
    }
   ],
   "source": [
    "from sklearn.metrics import classification_report\n",
    "print(classification_report(ytest, test_predicted))"
   ]
  },
  {
   "cell_type": "markdown",
   "id": "dense-feelings",
   "metadata": {
    "id": "dense-feelings"
   },
   "source": [
    "#### Confusion matrix"
   ]
  },
  {
   "cell_type": "code",
   "execution_count": 42,
   "id": "running-remains",
   "metadata": {
    "colab": {
     "base_uri": "https://localhost:8080/"
    },
    "executionInfo": {
     "elapsed": 1004,
     "status": "ok",
     "timestamp": 1678791672059,
     "user": {
      "displayName": "ಪ್ರಶಾಂತ್ ಕನ್ನಡಗುಳಿ Prashanth Kannadaguli",
      "userId": "15032422606713375335"
     },
     "user_tz": -330
    },
    "id": "running-remains",
    "outputId": "1bb140aa-5a2b-4059-9744-f0a4c2f79a3b"
   },
   "outputs": [
    {
     "data": {
      "text/plain": [
       "array([[42010,    29],\n",
       "       [ 2916,    45]], dtype=int64)"
      ]
     },
     "execution_count": 42,
     "metadata": {},
     "output_type": "execute_result"
    }
   ],
   "source": [
    "from sklearn.metrics import confusion_matrix\n",
    "mat = confusion_matrix(ytest, test_predicted)\n",
    "mat"
   ]
  },
  {
   "cell_type": "markdown",
   "id": "RG1rMiEjvdWG",
   "metadata": {
    "id": "RG1rMiEjvdWG"
   },
   "source": [
    "## SHAP implementation for Logistic Regression"
   ]
  },
  {
   "cell_type": "markdown",
   "id": "8krue0HcMDMW",
   "metadata": {
    "id": "8krue0HcMDMW"
   },
   "source": [
    "**SHAP (SHapley Additive exPlanations)** is a game theoretic approach to explain the output of any machine learning model. It connects optimal credit allocation with local explanations using the classic Shapley values from game theory and their related extensions.\n",
    "\n",
    "In the below figure, we can see how the different feature values (Age, Sex, BMI, etc) are affecting the base value (0.1) to give the final output prediction (0.4). The base value or the expected value is the average of the model output over the training data X_train.\n",
    "\n",
    "![](https://cdn.iisc.talentsprint.com/CDS/Images/Shap_model.png)"
   ]
  },
  {
   "cell_type": "markdown",
   "id": "x68S9Hw1QLx5",
   "metadata": {
    "id": "x68S9Hw1QLx5"
   },
   "source": [
    "To understand how to compute and interpet Shapley-based explanations of a machine learning model, we will use the following plots:\n",
    "\n",
    "- Force plot\n",
    "- Feature importance plot\n",
    "- Summary plot\n",
    "- Dependence plot\n",
    "- Clustering Shapley values"
   ]
  },
  {
   "cell_type": "code",
   "execution_count": 43,
   "id": "yW5YV_hFvhW1",
   "metadata": {
    "id": "yW5YV_hFvhW1"
   },
   "outputs": [],
   "source": [
    "# !pip -qq install shap"
   ]
  },
  {
   "cell_type": "code",
   "execution_count": 44,
   "id": "8b-jRrKMvfvi",
   "metadata": {
    "id": "8b-jRrKMvfvi"
   },
   "outputs": [],
   "source": [
    "# import shap\n",
    "# import warnings\n",
    "# warnings.filterwarnings(\"ignore\")"
   ]
  },
  {
   "cell_type": "markdown",
   "id": "XUKDBsERsyY3",
   "metadata": {
    "id": "XUKDBsERsyY3"
   },
   "source": [
    "### Force plot for individual instances\n",
    "\n",
    "We can visualize feature attributions such as Shapley values as “forces”. Each feature value is a force that either increases or decreases the prediction. The prediction starts from the baseline. The baseline for Shapley values is the average of all predictions. \n",
    "\n",
    "In the plot, each Shapley value is an arrow that pushes to increase (positive value) or decrease (negative value) the prediction. These forces balance each other out at the actual prediction of the data instance.\n",
    "\n",
    "Here we use `shap.force_plot()` function that takes three values: \n",
    "\n",
    "- the base value (explainer.expected_value), \n",
    "- the SHAP values, and \n",
    "- the matrix of feature values \n",
    "\n",
    "Let's see SHAP force plots for two instances from the GiveMeSomeCredit dataset:"
   ]
  },
  {
   "cell_type": "code",
   "execution_count": 45,
   "id": "t8j3OnI8xi2Z",
   "metadata": {
    "id": "t8j3OnI8xi2Z"
   },
   "outputs": [],
   "source": [
    "# # Instead of using the whole training set to estimate expected values, we summarize with\n",
    "# # a set of weighted kmeans, each weighted by the number of points they represent.\n",
    "# xtrain_summary = shap.kmeans(xtrain, 10)      # summarize the background as K samples"
   ]
  },
  {
   "cell_type": "code",
   "execution_count": 46,
   "id": "eoXN6P3H5D9q",
   "metadata": {
    "id": "eoXN6P3H5D9q"
   },
   "outputs": [],
   "source": [
    "# feature_names = selected_columns.tolist()"
   ]
  },
  {
   "cell_type": "code",
   "execution_count": 47,
   "id": "r0I7-Qfpv8uW",
   "metadata": {
    "id": "r0I7-Qfpv8uW"
   },
   "outputs": [],
   "source": [
    "# # Force plot for an instance\n",
    "# shap.initjs()\n",
    "# explainer = shap.KernelExplainer(log_reg.predict, xtrain_summary)\n",
    "# shap_value = explainer.shap_values(xtest.iloc[0,:].values)\n",
    "# shap.force_plot(explainer.expected_value, shap_value, xtest.iloc[0,:].values, feature_names = feature_names)"
   ]
  },
  {
   "cell_type": "markdown",
   "id": "sRETKd6FpdKI",
   "metadata": {
    "id": "sRETKd6FpdKI"
   },
   "source": [
    "In the above plot:\n",
    "\n",
    "- The output value **f(x)** is the prediction for that observation (the predicted output value of the first row in X_test is ≈ **0**, indicating low credit risk).\n",
    "- The **base value**: is “the value that would be predicted if we did not know any features for the current output.” Here it is **0.004808**.\n",
    "- Red/blue: Features that push the prediction value higher (to the right) are shown in red, and those pushing the prediction value lower are in blue.\n",
    "\n",
    "The features are having risk decreasing effects."
   ]
  },
  {
   "cell_type": "code",
   "execution_count": 48,
   "id": "vkKVLz8r-3p7",
   "metadata": {
    "id": "vkKVLz8r-3p7"
   },
   "outputs": [],
   "source": [
    "# # Force plot for another instance\n",
    "# shap.initjs()\n",
    "# explainer = shap.KernelExplainer(log_reg.predict, xtrain_summary)\n",
    "# shap_value = explainer.shap_values(xtest.iloc[1,:].values)\n",
    "# shap.force_plot(explainer.expected_value, shap_value, xtest.iloc[1,:].values, feature_names = feature_names)"
   ]
  },
  {
   "cell_type": "markdown",
   "id": "wW3cmp2ntmmp",
   "metadata": {
    "id": "wW3cmp2ntmmp"
   },
   "source": [
    "In the above plot, the output value **f(x)** i.e, the predicted output value for that observation is ≈ **0**.\n",
    "\n",
    "This instance also has a low predicted risk of 0. But the risk decreasing effects such as `NumberOfTimes90DaysLate` are offset by increasing effects such as `NumberOfTime30-59DaysPastDueNotWorse`."
   ]
  },
  {
   "cell_type": "markdown",
   "id": "ln9LdWyIZc6l",
   "metadata": {
    "id": "ln9LdWyIZc6l"
   },
   "source": [
    "Shapley values can be combined into global explanations. If we run SHAP for every instance, we get a matrix of Shapley values. This matrix has one row per data instance and one column per feature. We can interpret the entire model by analyzing the Shapley values in this matrix."
   ]
  },
  {
   "cell_type": "markdown",
   "id": "UIe6Cknit57j",
   "metadata": {
    "id": "UIe6Cknit57j"
   },
   "source": [
    "### SHAP Feature Importance\n",
    "\n",
    "The idea behind SHAP feature importance is simple: Features with large **absolute** Shapley values are important. Since we want the global importance, we average the absolute Shapley values per feature across the data. Next, we sort the features by decreasing importance and plot them. \n",
    "\n",
    "Let's plot the SHAP feature importance for the logistic regression model trained before for predicting credit risk."
   ]
  },
  {
   "cell_type": "markdown",
   "id": "M1CC9wJGVs36",
   "metadata": {
    "id": "M1CC9wJGVs36"
   },
   "source": [
    "Here, we use the `shap.summary_plot` function with `plot_type=”bar”` to produce the feature importance plot. It lists the most significant features in descending order. The top variables contribute more to the model than the bottom ones and thus have high predictive power."
   ]
  },
  {
   "cell_type": "code",
   "execution_count": 49,
   "id": "bqu2pPn9nu-d",
   "metadata": {
    "id": "bqu2pPn9nu-d"
   },
   "outputs": [],
   "source": [
    "# # Get SHAP values\n",
    "# shap_values = explainer.shap_values(xtest)"
   ]
  },
  {
   "cell_type": "code",
   "execution_count": 50,
   "id": "jfPzt7DViLKB",
   "metadata": {
    "id": "jfPzt7DViLKB"
   },
   "outputs": [],
   "source": [
    "# # Feature importance\n",
    "# shap.summary_plot(shap_values, xtest, feature_names = feature_names, plot_type = \"bar\")"
   ]
  },
  {
   "cell_type": "markdown",
   "id": "il3Uuj3PuQY3",
   "metadata": {
    "id": "il3Uuj3PuQY3"
   },
   "source": [
    "For a more informative plot, we will look at the summary plot."
   ]
  },
  {
   "cell_type": "markdown",
   "id": "f9AmqiJCuTr3",
   "metadata": {
    "id": "f9AmqiJCuTr3"
   },
   "source": [
    "### SHAP Summary Plot\n",
    "\n",
    "The summary plot combines feature importance with feature effects:\n",
    "\n",
    "* Each point on the summary plot is a Shapley value for a feature and an instance. \n",
    "* The position on the y-axis is determined by the feature and on the x-axis by the Shapley value. \n",
    "* Overlapping points are jittered in y-axis direction, so we get a sense of the distribution of the Shapley values per feature. "
   ]
  },
  {
   "cell_type": "markdown",
   "id": "wHI5TIP8hF8O",
   "metadata": {
    "id": "wHI5TIP8hF8O"
   },
   "source": [
    "It demonstrates the following information:\n",
    "\n",
    "- **Feature importance**: Features are ranked in descending order.\n",
    "- **Impact**: The horizontal location shows whether the effect of that value is associated with a higher or lower prediction.\n",
    "- **Original value**: Color shows whether that feature value is high (in red) or low (in blue) for that observation.\n",
    "- **Correlation**: A *high* level of the “NumberOfTimes90DaysLate” has a *positive* impact on the credit risk. The “high” comes from the red color, and the “positive” impact is shown on the X-axis. Similarly, we will say the “NumberOfTime30-59DaysPastDueNotWorse” is also positively correlated with the target variable."
   ]
  },
  {
   "cell_type": "code",
   "execution_count": 51,
   "id": "1JocSmx8-lo9",
   "metadata": {
    "id": "1JocSmx8-lo9"
   },
   "outputs": [],
   "source": [
    "# # Summary plot\n",
    "# shap.summary_plot(shap_values, xtest, feature_names = feature_names, plot_type = \"dot\")"
   ]
  },
  {
   "cell_type": "markdown",
   "id": "FtZmi2dEuc9n",
   "metadata": {
    "id": "FtZmi2dEuc9n"
   },
   "source": [
    "In the summary plot, we see first indications of the relationship between the value of a feature and the impact on the prediction. But to see the exact form of the relationship, we have to look at SHAP dependence plots."
   ]
  },
  {
   "cell_type": "markdown",
   "id": "7oGleQqto1kN",
   "metadata": {
    "id": "7oGleQqto1kN"
   },
   "source": [
    "### SHAP Dependence Plot"
   ]
  },
  {
   "cell_type": "markdown",
   "id": "g5NhkzG3jOoY",
   "metadata": {
    "id": "g5NhkzG3jOoY"
   },
   "source": [
    "The partial dependence plot shows the marginal effect of one or two features have on the predicted outcome of a machine learning model. It tells whether the relationship between the target and a feature is linear, monotonic or more complex.\n",
    "\n",
    "To implement SHAP feature dependence plot: \n",
    "\n",
    "* Pick a feature\n",
    "* For each data instance, plot a point with the feature value on the x-axis and the corresponding Shapley value on the y-axis\n",
    "\n",
    "In order to create a dependence plot, we use `shap.dependence_plot()` function. The function automatically includes another variable that the chosen variable interacts most with. The following plot shows the relationship between “age” and the target variable, and “age” interacts with “NumberOfTime60-89DaysPastDueNotWorse” feature frequently."
   ]
  },
  {
   "cell_type": "code",
   "execution_count": 52,
   "id": "A7kKZtGS-1Kf",
   "metadata": {
    "id": "A7kKZtGS-1Kf"
   },
   "outputs": [],
   "source": [
    "# # Dependence plot for temperature\n",
    "# shap.dependence_plot(\"age\", shap_values, xtest)"
   ]
  },
  {
   "cell_type": "markdown",
   "id": "hM7Zmir4vbAq",
   "metadata": {
    "id": "hM7Zmir4vbAq"
   },
   "source": [
    "### Clustering Shapley Values\n",
    "\n",
    "We can cluster the data with the help of Shapley values. The goal of clustering is to find groups of similar instances. \n",
    "\n",
    "SHAP clustering works by clustering the Shapley values of each instance. This means that we cluster instances by explanation similarity. All SHAP values have the same unit – the unit of the prediction space. We can use any clustering method. The following example uses hierarchical agglomerative clustering to order the instances.\n",
    "\n",
    "The plot consists of many force plots, each of which explains the prediction of an instance. We rotate the force plots vertically and place them side by side according to their clustering similarity."
   ]
  },
  {
   "cell_type": "code",
   "execution_count": 53,
   "id": "Dr_xw8XQeSj3",
   "metadata": {
    "id": "Dr_xw8XQeSj3"
   },
   "outputs": [],
   "source": [
    "# # Force plot for first 100 instances of xtest\n",
    "# shap.initjs()\n",
    "# shap.force_plot(explainer.expected_value, shap_values[0:200], xtest.iloc[0:200], feature_names = feature_names)"
   ]
  },
  {
   "cell_type": "markdown",
   "id": "-jUbybsjvl11",
   "metadata": {
    "id": "-jUbybsjvl11"
   },
   "source": [
    "In the above plot, each position on the x-axis is an instance of the data. Red SHAP values increases the prediction whereas blue values decreases it.\n",
    "\n",
    "Here, we have used only 200 instances and we see one cluster stands out: On the right is a group with a high predicted credit risk.\n",
    "\n",
    "Also, we can plot it for the entire set using the below code cell. Note that it may take more than 30 minutes to run the below cell."
   ]
  },
  {
   "cell_type": "code",
   "execution_count": 54,
   "id": "loLIovJx4lUi",
   "metadata": {
    "id": "loLIovJx4lUi"
   },
   "outputs": [],
   "source": [
    "# Force plot for entire xtest\n",
    "#shap.initjs()\n",
    "#shap.force_plot(explainer.expected_value, shap_values, xtest.values, feature_names = feature_names)"
   ]
  }
 ],
 "metadata": {
  "colab": {
   "provenance": []
  },
  "kernelspec": {
   "display_name": "Python 3 (ipykernel)",
   "language": "python",
   "name": "python3"
  },
  "language_info": {
   "codemirror_mode": {
    "name": "ipython",
    "version": 3
   },
   "file_extension": ".py",
   "mimetype": "text/x-python",
   "name": "python",
   "nbconvert_exporter": "python",
   "pygments_lexer": "ipython3",
   "version": "3.10.9"
  }
 },
 "nbformat": 4,
 "nbformat_minor": 5
}
